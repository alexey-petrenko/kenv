{
 "cells": [
  {
   "cell_type": "markdown",
   "metadata": {},
   "source": [
    "# Tutorial and Test KENV\n",
    "\n",
    "<a href=mailto:fuodorov1998@gmail.com>V. Fedorov</a>, <a href=mailto:nikdanila@bk.ru>D. Nikiforov</a>, <a href=http://www.inp.nsk.su/~petrenko/>A. Petrenko</a>, (Novosibirsk, 2019)\n",
    "\n",
    "## [Introduction](introduction.ipynb)\n",
    "\n",
    "Let's consider the main examples of using the solver kenv. Examples are presented in notebooks.\n",
    "\n",
    "## Notebooks\n",
    "\n",
    "### Tutorial\n",
    "\n",
    "#### 00. [Algorithm features](00_algorithm_features.ipynb)\n",
    "####  01. [Theory](01_theory.ipynb)\n",
    "The theory of the Kapchinsky-Vladimir envelope equation is considered.\n",
    "####  02. [Tutorial](02_tutorial.ipynb)\n",
    "The basic applications of the kenv are considered.\n",
    "####  03. [Interactiv basic plotting](03_interactiv_basic.ipynb)\n",
    "The basic interactive plotting on matplotlib.\n",
    "####  04. [Genetic algorithm for envelope](04_genetic_envelope.ipynb)\n",
    "The application of the genetic algorithm (deap library) for constructing the envelope is considered.\n",
    "####  05. [GUI with bokeh](05_GUI_bokeh.ipynb)\n",
    "Considered a graphical interface.\n",
    "#### 06. [Shifted centroid](06_shifted_centroid.ipynb)\n",
    "Simulation of a central particle with Astra.\n",
    "\n",
    "### Test\n",
    "#### 0A. [Tracking beam test](0A_track_beam.ipynb)\n",
    "KENV vs Astra vs WARP vs SAM.\n",
    "#### 0B. [Tracking centroid test](0B_track_centroid.ipynb)\n",
    "KENV vs Astra.\n"
   ]
  },
  {
   "cell_type": "code",
   "execution_count": null,
   "metadata": {},
   "outputs": [],
   "source": []
  }
 ],
 "metadata": {
  "kernelspec": {
   "display_name": "Python 3",
   "language": "python",
   "name": "python3"
  },
  "language_info": {
   "codemirror_mode": {
    "name": "ipython",
    "version": 3
   },
   "file_extension": ".py",
   "mimetype": "text/x-python",
   "name": "python",
   "nbconvert_exporter": "python",
   "pygments_lexer": "ipython3",
   "version": "3.7.3"
  }
 },
 "nbformat": 4,
 "nbformat_minor": 4
}
