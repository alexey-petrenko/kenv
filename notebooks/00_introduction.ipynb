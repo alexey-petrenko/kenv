{
 "cells": [
  {
   "cell_type": "markdown",
   "metadata": {},
   "source": [
    "# Tutorial KENV\n",
    "\n",
    "<a href=mailto:fuodorov1998@gmail.com>V. Fedorov</a>, <a href=mailto:nikdanila@bk.ru>D. Nikiforov</a>, <a href=http://www.inp.nsk.su/~petrenko/>A. Petrenko</a>, (Novosibirsk, 2019)\n",
    "\n",
    "## Introduction\n",
    "\n",
    "Let's consider the main examples of using the solver kenv. Examples are presented in notebooks.\n",
    "\n",
    "### Notebooks\n",
    "\n",
    "#### 00. [Itroduction](00_introduction.ipynb)\n",
    "####  01. [Theory](01_theory.ipynb)\n",
    "The theory of the Kapchinsky-Vladimir envelope equation is considered.\n",
    "####  02. [Manual](02_manual.ipynb)\n",
    "The basic applications of the kenv are considered.\n",
    "####  03. [Interactiv plotting](03_interactiv.ipynb)\n",
    "The basic interactive plotting on matplotlib.\n",
    "####  04. [Genetic algorithm](04_genetic.ipynb)\n",
    "The application of the genetic algorithm (deap library) for constructing the envelope is considered.\n",
    "####  05. [GUI](05_GUI.ipynb)\n",
    "Considered a graphical interface.\n",
    "#### 0A. [Test](0A_test.ipynb)\n",
    "KENV vs Astra vs WARP vs SAM.\n"
   ]
  }
 ],
 "metadata": {
  "kernelspec": {
   "display_name": "Python 3",
   "language": "python",
   "name": "python3"
  },
  "language_info": {
   "codemirror_mode": {
    "name": "ipython",
    "version": 3
   },
   "file_extension": ".py",
   "mimetype": "text/x-python",
   "name": "python",
   "nbconvert_exporter": "python",
   "pygments_lexer": "ipython3",
   "version": "3.7.3"
  }
 },
 "nbformat": 4,
 "nbformat_minor": 4
}
