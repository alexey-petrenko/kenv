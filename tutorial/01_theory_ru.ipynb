{
 "cells": [
  {
   "cell_type": "markdown",
   "metadata": {},
   "source": [
    "# KENV\n",
    "\n",
    "<a href=mailto:fuodorov1998@gmail.com>V. Fedorov</a>, <a href=mailto:nikdanila@bk.ru>D. Nikiforov</a>, <a href=http://www.inp.nsk.su/~petrenko/>A. Petrenko</a>, (Novosibirsk, 2019)\n"
   ]
  },
  {
   "cell_type": "markdown",
   "metadata": {},
   "source": [
    "## Theory"
   ]
  },
  {
   "cell_type": "markdown",
   "metadata": {},
   "source": [
    "### Уравнения Максвелла"
   ]
  },
  {
   "cell_type": "markdown",
   "metadata": {},
   "source": [
    "Объемная плотность тока пучка $\\jmath = \\rho\\upsilon$, где $\\rho$ - объемная плотность заряда,$\\upsilon$ - скорость пучка.\n",
    "Запишем дифференциальные уравнения Максвелла:\n",
    "$$\n",
    "\\nabla \\vec{D} = 4\\pi\\rho,\n",
    "$$\n",
    "$$\n",
    "\\nabla\\times \\vec{H} = \\frac{4\\pi\\vec{\\jmath}}{c},\n",
    "$$\n",
    "где $\\vec{D}$ - индукция электрического поля, $\\vec{H}$ - напряженность магнитного поля, $с$ - скорость света. Используем теорему Стокса об интегрировании дифференциальных форм, чтобы получить уравнения Максвелла в интегральной форме:\n",
    "$$\n",
    "\\oint\\limits_{\\eth V} \\vec{D}\\vec{dS} = 4\\pi\\int\\limits_V\\rho{dV},\n",
    "$$\n",
    "$$\n",
    "\\oint\\limits_{\\eth S} \\vec{H}\\vec{dl} = \\frac{4\\pi}{c}\\int\\limits_S\\vec{\\jmath}\\vec{dS}.\n",
    "$$"
   ]
  },
  {
   "cell_type": "markdown",
   "metadata": {},
   "source": [
    "Найдем $D_r$ для цилиндрического пучка радиуса $a$ с постоянной плотностью $\\rho_0$:\n",
    "$$\n",
    "D_r = \\frac{4\\pi}{r}\\int\\limits^r_0\\rho(\\xi)\\xi d\\xi = \n",
    "\\begin{equation*}\n",
    " \\begin{cases}\n",
    "   \\displaystyle 2\\pi\\rho_0 r, r < a, \n",
    "   \\\\\n",
    "   \\displaystyle \\frac{2\\pi\\rho_0 a^2}{r}, r > a.\n",
    " \\end{cases}\n",
    "\\end{equation*}\n",
    "$$"
   ]
  },
  {
   "cell_type": "markdown",
   "metadata": {},
   "source": [
    "Учитывая, что в вакууме \n",
    "$D = E$, $H = B$, $E$ - напряженность электрического поля, \n",
    "$B$ - индукция магнитного поля, и в плоском пространстве в декартовой системе координат \n",
    "$H_\\alpha = \\beta D_r$, \n",
    "где $\\displaystyle\\beta = \\frac{\\upsilon}{c}$, \n",
    "радиальная компонента силы $F_r$ из силы Лоренца \n",
    "$\\vec{F} = e\\vec{E} + \\displaystyle\\frac{e}{c}\\vec{\\upsilon}\\times\\vec{B}$ :\n",
    "$$\n",
    "F_r = eE_r - \\frac{e\\upsilon_z B_\\alpha}{c} = eE_r(1-\\displaystyle \\frac{\\upsilon^2}{c^2}) = \\displaystyle \\frac{eE_r}{\\gamma^2}.\n",
    "$$\n",
    "Полезно выразить поле через ток\n",
    "$\n",
    "I = \\rho_0\\upsilon\\pi a^2\n",
    "$, тогда: \n",
    "$$\n",
    "E_r = \n",
    "\\begin{equation*}\n",
    " \\begin{cases}\n",
    "   \\displaystyle \\frac{2 I r}{a^2\\upsilon}, r < a, \n",
    "   \\\\\n",
    "   \\displaystyle \\frac{2 I}{r\\upsilon}, r > a.\n",
    " \\end{cases}\n",
    "\\end{equation*}\n",
    "$$"
   ]
  },
  {
   "cell_type": "markdown",
   "metadata": {},
   "source": [
    "### Уравнения движения"
   ]
  },
  {
   "cell_type": "markdown",
   "metadata": {},
   "source": [
    "Второй закон Ньютона $\\dot p_r = F_r$, используем параксиальное приближение и считаем $\\gamma = const$:\n",
    "$$\n",
    "\\gamma m \\ddot r = \\displaystyle \\frac{eE_r}{\\gamma^2} = \\displaystyle \\frac{2 I e}{\\gamma^2 a^2 \\upsilon} r, \n",
    "$$\n",
    "получилось линейное уравнение, но так как все частицы движутся нужно учесть, что $a = a(t)$.\n",
    "Решение линейного уравнения можно представить как линейное преобразование фазовой плоскости. Так как отрезок на фазовой плоскости при невырожденном линейном преобразовании переходит в отрезок, то его можно охарактеризовать одной точкой. Следовательно, выберем крайнюю точку $r = a$, которая будет характеризовать крайнюю траекторию:\n",
    "$$\n",
    "\\gamma m \\ddot r = \\displaystyle \\frac{2 I e}{\\gamma^2 a \\upsilon}. \n",
    "$$\n",
    "Перейдем к дифференцированию по $z$, учтем, что $\\displaystyle dt = \\frac{dz}{v}$, тогда:\n",
    "$$\n",
    "a'' = \\displaystyle \\frac{e}{a}\\frac{2I}{m\\gamma^3\\upsilon^3}.\n",
    "$$\n",
    "Введем характерный альфвеновский ток $I_a = \\displaystyle \\frac{mc^3}{e} \\approx$ 17 kA, следовательно:\n",
    "$$\n",
    "a'' = \\displaystyle \\frac{2I}{I_a (\\beta\\gamma)^3} \\frac{1}{a}.\n",
    "$$\n",
    "Учтем внешнюю фокусировку, предполагая суперпозицию полей (верно не всегда, например, в нелинейных средах это не выполняется), получим:\n",
    "$$\n",
    "a'' + k(z)a - \\displaystyle \\frac{2I}{I_a (\\beta\\gamma)^3} \\frac{1}{a} = 0,\n",
    "$$\n",
    "что напоминает уравнение огибающей: \n",
    "$$ w'' + kw - \\displaystyle \\frac{1}{w^3} = 0 ,$$\n",
    "где $ w =\\displaystyle  \\sqrt \\beta .$"
   ]
  },
  {
   "cell_type": "markdown",
   "metadata": {},
   "source": [
    "### Уравнения огибающей для эллиптического пучка с распределением Капчинского-Владимирского с внешней фокусировкой линейными полями"
   ]
  },
  {
   "cell_type": "markdown",
   "metadata": {},
   "source": [
    "Распределение Капчинского-Владимирского:\n",
    "$$\n",
    "f = A\\delta(1 - \\displaystyle\\frac{\\beta_x x'^2 + 2\\alpha_x x x' + \\gamma_x x^2}{\\epsilon_x} - \\displaystyle\\frac{\\beta_y y'^2 + 2\\alpha_y y y' + \\gamma_y y^2}{\\epsilon_y} ),\n",
    "$$\n",
    "где $А$ - инвариант Куранта-Снайдера. Полуоси эллипса:\n",
    "$$\n",
    "a = \\sqrt{\\epsilon_x \\beta_x}, b = \\sqrt{\\epsilon_y \\beta_y}. \n",
    "$$\n",
    "Поле получается линейно внутри заряженного эллиптического цилиндра:\n",
    "$$\n",
    "E_x = \\displaystyle \\frac{4I}{\\upsilon}\\frac{x}{a(a+b)},\n",
    "$$\n",
    "$$\n",
    "E_y = \\displaystyle \\frac{4I}{\\upsilon}\\frac{y}{b(a+b)}.\n",
    "$$\n",
    "Проверим, что $\\nabla \\vec{E} = 4\\pi\\rho:$\n",
    "$$\n",
    "\\displaystyle I = \\rho \\upsilon \\pi ab,\n",
    "$$\n",
    "$$\n",
    "\\nabla \\vec{E} = \\displaystyle \\frac{4I(a+b)}{\\pi(a+b)ab} = \\displaystyle \\frac{4I}{\\pi ab} = 4\\pi\\rho.\n",
    "$$\n",
    "Так как поля линейные, они добавятся к полям фокусирующей линзы. Подставим в уравнение огибающей $\\displaystyle  a = \\sqrt \\epsilon_x w_x, b = \\sqrt \\epsilon_y w_y:$\n",
    "$$\n",
    "a'' + k_{xt} a - \\frac{\\epsilon_x^2}{a^3} = 0,\n",
    "$$\n",
    "где $k_{xt} = k_x + k_{xsc}$ - полная жесткость, $k_x$ - жесткость линзы, а $\\displaystyle k_{xsc} = \\frac{4I}{I_a (\\beta\\gamma)^3}\\frac{1}{a(a+b)}.$\n",
    "В итоге получаем систему уравнений, связанных через пространственный заряд:\n",
    "$$\n",
    "\\begin{equation*}\n",
    " \\begin{cases}\n",
    "   \\displaystyle a'' + k_xa - \\frac{4I}{I_a (\\beta\\gamma)^3}\\frac{1}{(a+b)} - \\frac{\\epsilon_x^2}{a^3} = 0 ,\n",
    "   \\\\\n",
    "   \\displaystyle b'' + k_yb - \\frac{4I}{I_a (\\beta\\gamma)^3}\\frac{1}{(a+b)} - \\frac{\\epsilon_y^2}{b^3} = 0.\n",
    " \\end{cases}\n",
    "\\end{equation*}\n",
    "$$\n"
   ]
  },
  {
   "cell_type": "markdown",
   "metadata": {},
   "source": [
    "### Количественный критерий применимости приближения ламинарности течения"
   ]
  },
  {
   "cell_type": "markdown",
   "metadata": {},
   "source": [
    "Данная система уравнений позволяет учесть 2 эффекта, мешающих сфокусировать пучок в точку - конечность эммитанса и пространственный заряд. Работают члены одинаково, поэтому можно сравнить эти величины.\n",
    "Когда ток $I$ малый - слабое отталкивание, если ток $I$ большой - сильное отталкивание, следовательно, эммитанс можно откинуть и считать течение ламинарным. Очевидно, количественный критерий применимости ламинарности течения выглядит так: \n",
    "$$\n",
    "\\displaystyle \\sqrt{\\frac{2I}{I_a(\\beta\\gamma)^3}} \\gg \\sqrt{\\frac{\\epsilon}{\\beta}}.\n",
    "$$\n",
    "Видно, что пространственный заряд влияет на огибающую больше там, где $\\beta$-функция больше, а в вблизи фокуса влиянием пространственного заряда можно пренебречь."
   ]
  },
  {
   "cell_type": "markdown",
   "metadata": {},
   "source": [
    "### Теорема Буша"
   ]
  },
  {
   "cell_type": "markdown",
   "metadata": {},
   "source": [
    "В качестве дополнения к выводу уравнения огибающей пучка докажем важную вспомогательную теорему, которая называется теоремой Буша. Она связывает угловую скорость заряженной частицы, движущейся в аксиально-симметричном магнитном поле, с магнитным потоком, охваченным окружностью с центром на оси и проходящим через точку, в которой расположена частица."
   ]
  },
  {
   "cell_type": "markdown",
   "metadata": {},
   "source": [
    "Рассмотрим заряд $q$, движущийся в магнитном поле $\\vec B = (B_r,0,B_z)$. Приравняем $\\theta $ -составляющую силы Лоренца к производной момента импульса по времени, деленной на $r$:\n",
    "$$\n",
    "F_\\theta = -q(\\ddot r B_z - \\dot z B_r) = \\frac{d}{rdt}(\\gamma m r^2 \\dot \\theta).\n",
    "$$\n",
    "Поток, пронизывающий площадь, охваченную окружностью радиуса $r$, центр которой расположен на оси, а сама она проходит через точку, в которой расположен заряд, записывается в виде $\\psi = \\int\\limits^r_0 2\\pi r B_z dr$. Когда частица перемещается на $\\vec{dl} = (dr,dz)$, скорость изменения потока, охваченного этой окружностью, можно найти из второго уравнения Максвелла $\\nabla \\vec{B} = 0.$ Таким образом,\n",
    "$$\n",
    "\\dot\\psi = 2\\pi r (-B_r \\dot z + B_z \\dot r).\n",
    "$$\n",
    "После интегрирования по времени из приведенных уравнений получаем следующее выражение:\n",
    "$$\n",
    "\\dot \\theta = (-\\frac{q}{2\\pi \\gamma m r^2})(\\psi - \\psi_0).\n",
    "$$"
   ]
  },
  {
   "cell_type": "markdown",
   "metadata": {},
   "source": [
    "### Уравнение параксиального луча"
   ]
  },
  {
   "cell_type": "markdown",
   "metadata": {},
   "source": [
    "Здесь мы запишем уравнение параксиального луча в виде, соответсвующем системе с аксиальнорй симметрией при принятых ранее допущениях. Чтобы вывести уравнение параксиального луча, приравняем силу радиального ускорения силам электрическим и магнитным со стороны внешних полей. Нужно помнить, что величина $\\gamma = \\gamma(t).$\n",
    "$$\n",
    "\\frac{d}{dt}(\\gamma m \\dot r) - \\gamma m r (\\dot \\theta)^2 = q(E_r + r\\dot \\theta B_z).\n",
    "$$\n",
    "Применим теорему Буша и независимость $B_z$ от $r:$\n",
    "$$\n",
    " -\\dot \\theta = \\frac{q}{2\\gamma m}(B_z - \\frac{\\psi_0}{\\pi r}).\n",
    "$$\n",
    "Исключим $\\dot \\theta$ и подставим $\\displaystyle \\dot \\gamma \\approx \\frac {\\beta q E_z }{mc}:$\n",
    "$$\n",
    "\\ddot r + \\frac{\\beta q E_z}{\\gamma m c} \\dot r + \\frac{q^2 B^2_z}{4\\gamma ^2 m^2} r - \\frac{ q^2 \\psi^2_0}{4\\pi^2\\gamma^2 m^2} (\\frac{1}{r^3}) - \\frac{q E_r}{\\gamma m } = 0.\n",
    "$$"
   ]
  },
  {
   "cell_type": "markdown",
   "metadata": {},
   "source": [
    "### Уравнение огибающей для круглого и эллиптического пучка"
   ]
  },
  {
   "cell_type": "markdown",
   "metadata": {},
   "source": [
    "Учитывая, что:\n",
    "$$\n",
    "\\dot r = \\beta c r',\n",
    "$$\n",
    "$$\n",
    "\\ddot r = r'' (\\dot z)^2 + r'\\ddot z \\approx r'' \\beta^2 c^2 + r' \\beta' \\beta c^2.\n",
    "$$\n",
    "А также, если в области пучка нет никаких зарядов, то, разлагая в ряд Тейлора в окрестности оси и оставляя только первый член, с учетом $$\\nabla \\vec{E} = 0$$ получаем\n",
    "$$\n",
    "E_r = -0.5 r E'_z \\approx - 0.5 r \\gamma'' mc^2/q.\n",
    "$$\n",
    "Тогда окончательно можем записать уравнение огибающей для круглого пучка радиуса $r$ с распределением Капчинского-Владимирского с внешней фокусировкой линейными полями:\n",
    "$$\n",
    "\\displaystyle r'' + \\frac{1}{\\beta^2\\gamma} \\gamma' r' + \\frac{1}{2\\beta^2\\gamma}\\gamma''r + kr - \\frac{2I}{I_a (\\beta\\gamma)^3}\\frac{1}{r} - \\frac{\\epsilon^2}{r^3} = 0 ;\n",
    "$$\n",
    "и для эллиптического пучка:\n",
    "$$\n",
    "\\begin{equation*}\n",
    " \\begin{cases}\n",
    "   \\displaystyle a'' + \\frac{1}{\\beta^2\\gamma} \\gamma' a' + \\frac{1}{2\\beta^2\\gamma}\\gamma''a + k_xa - \\frac{4I}{I_a (\\beta\\gamma)^3}\\frac{1}{(a+b)} - \\frac{\\epsilon_x^2}{a^3} = 0 ,\n",
    "   \\\\\n",
    "   \\displaystyle b'' + \\frac{1}{\\beta^2\\gamma} \\gamma' b' + \\frac{1}{2\\beta^2\\gamma}\\gamma''b + k_yb - \\frac{4I}{I_a (\\beta\\gamma)^3}\\frac{1}{(a+b)} - \\frac{\\epsilon_y^2}{b^3} = 0.\n",
    " \\end{cases}\n",
    "\\end{equation*}\n",
    "$$"
   ]
  },
  {
   "cell_type": "markdown",
   "metadata": {},
   "source": [
    "### Магнитные линзы\n",
    "Фокусирующими элементами могут являться: соленоиды и магнитные квадрупольные линзы.\n",
    "\n",
    "### Соленоиды\n",
    "\n",
    "$k_x = k_y = k_s$ - жесткость соленоида:\n",
    "$$\n",
    "k_s = \\left ( \\frac{eB_z}{2m_ec\\beta\\gamma} \\right )^2 = \\left ( \\frac{e B_z}{2\\beta\\gamma\\cdot 0.511\\cdot 10^6 e \\cdot \\mathrm{volt}/c} \\right )^2 =\n",
    "\\left ( \\frac{cB_z[\\mathrm{T}]}{2\\beta\\gamma\\cdot 0.511\\cdot 10^6 \\cdot \\mathrm{volt}} \\right )^2.\n",
    "$$\n",
    "\n",
    "### Квадруполи\n",
    "\n",
    "$k_q = \\displaystyle\\frac{eG}{pc}$ - жесткость квадруполя, где $G = \\displaystyle\\frac{\\partial B_x}{\\partial y} = \\displaystyle\\frac{\\partial B_y}{\\partial x}$ - градиент магнитного поля, причем $k_x = k_q, k_y = -k_q.$\n",
    "$$\n",
    "k_q = \\left ( \\frac{eG}{m_ec\\beta\\gamma} \\right ) = \\left ( \\frac{eG}{\\beta\\gamma\\cdot 0.511\\cdot 10^6 e \\cdot \\mathrm{volt}/c} \\right ) =\n",
    "\\left ( \\frac{cG}{\\beta\\gamma\\cdot 0.511\\cdot 10^6 \\cdot \\mathrm{volt}} \\right ).\n",
    "$$"
   ]
  },
  {
   "cell_type": "markdown",
   "metadata": {},
   "source": [
    "### Продольная динамика пучка"
   ]
  },
  {
   "cell_type": "markdown",
   "metadata": {},
   "source": [
    "Уравнение на продольную динамику пучка можно решить независимо от уравнения на огибающую, чтобы в уравнении на огибающую уже использовать готовую функцию энергии пучка от $z$. Считая, что скорость электрона достаточно близка к скорости света и следовательно его продольная координата $z \\approx ct$, а импульс $p_z \\approx \\gamma mc$"
   ]
  },
  {
   "cell_type": "markdown",
   "metadata": {},
   "source": [
    "$$\n",
    "\\frac{d\\gamma}{dz} \\approx \\frac{eE_z}{mc^2},\n",
    "$$"
   ]
  },
  {
   "cell_type": "markdown",
   "metadata": {},
   "source": [
    "Тогда достаточно один раз проинтегрировать функцию $E_z(z)$:"
   ]
  },
  {
   "cell_type": "markdown",
   "metadata": {},
   "source": [
    "## Решение уравнения огибающей для эллиптического пучка  с фокусирующими элементами\n",
    "\n",
    "Уравнение огибающей для эллиптического пучка с полуосями $a, b$ с распределением Капчинского-Владимирского с внешней фокусировкой линейными полями:\n",
    "$$\n",
    "\\begin{equation*}\n",
    " \\begin{cases}\n",
    "   \\displaystyle a'' + \\frac{1}{\\beta^2\\gamma} \\gamma' a' + \\frac{1}{2\\beta^2\\gamma}\\gamma''a + k_qa - \\frac{2P}{(a+b)} - \\frac{\\epsilon_x^2}{a^3} = 0 ,\n",
    "   \\\\\n",
    "   \\displaystyle b'' + \\frac{1}{\\beta^2\\gamma} \\gamma' b' + \\frac{1}{2\\beta^2\\gamma}\\gamma''b - k_qb - \\frac{2P}{(a+b)} - \\frac{\\epsilon_y^2}{b^3} = 0.\n",
    " \\end{cases}\n",
    "\\end{equation*}\n",
    "$$\n"
   ]
  },
  {
   "cell_type": "markdown",
   "metadata": {},
   "source": [
    "Пусть $\\displaystyle x = \\frac{da}{dz},  y = \\frac{db}{dz},  \\displaystyle \\frac{d\\gamma }{dz}\\approx \\frac{e E_z}{m c^2}, k = \\frac{1}{R} - $ кривизна, тогда\n",
    "$$\n",
    "\\displaystyle\n",
    "\\left\\{\\begin{matrix}\n",
    "\\displaystyle \\frac{dx}{dz}= -  \\frac{1}{\\beta^2\\gamma} \\gamma' a' - \\frac{1}{2\\beta^2\\gamma}\\gamma''a - k_qa + \\frac{2P}{(a+b)} + \\frac{\\epsilon_x^2}{a^3}\\\\ \n",
    " \\displaystyle\\frac{da}{dz} =  x\\\\\n",
    " \\displaystyle \\frac{dy}{dz}= -  \\frac{1}{\\beta^2\\gamma} \\gamma' b' - \\frac{1}{2\\beta^2\\gamma}\\gamma''b + k_qb + \\frac{2P}{(a+b)} + \\frac{\\epsilon_x^2}{b^3}\\\\ \n",
    " \\displaystyle\\frac{db}{dz} =  y\n",
    "\\end{matrix}\\right.\n",
    "$$\n",
    "Пусть $\\vec X =\n",
    "\\begin{bmatrix}\n",
    "x \\\\\n",
    "a \\\\\n",
    "y \\\\\n",
    "b\n",
    "\\end{bmatrix} $, теперь составим дифференциальное уравнение $X' = F(X).$\n",
    "\n"
   ]
  },
  {
   "cell_type": "markdown",
   "metadata": {},
   "source": [
    "### Литература"
   ]
  },
  {
   "cell_type": "markdown",
   "metadata": {},
   "source": [
    "1. Дж. Лоусон \"Физика пучков заряженных частиц\"\n",
    "2. Н.А. Винокуров \"Лекции по электронной оптике для ускорительных физиков\" "
   ]
  }
 ],
 "metadata": {
  "kernelspec": {
   "display_name": "Python 3",
   "language": "python",
   "name": "python3"
  },
  "language_info": {
   "codemirror_mode": {
    "name": "ipython",
    "version": 3
   },
   "file_extension": ".py",
   "mimetype": "text/x-python",
   "name": "python",
   "nbconvert_exporter": "python",
   "pygments_lexer": "ipython3",
   "version": "3.7.3"
  }
 },
 "nbformat": 4,
 "nbformat_minor": 4
}
