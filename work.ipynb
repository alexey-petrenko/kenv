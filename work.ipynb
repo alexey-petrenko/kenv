{
 "cells": [
  {
   "cell_type": "markdown",
   "metadata": {},
   "source": [
    "# KENV\n",
    "\n",
    "<a href=mailto:fuodorov1998@gmail.com>V. Fedorov</a>, <a href=mailto:nikdanila@bk.ru>D. Nikiforov</a>, <a href=http://www.inp.nsk.su/~petrenko/>A. Petrenko</a>, (Novosibirsk, 2019)"
   ]
  },
  {
   "cell_type": "markdown",
   "metadata": {},
   "source": [
    "## Manual"
   ]
  },
  {
   "cell_type": "code",
   "execution_count": 1,
   "metadata": {},
   "outputs": [],
   "source": [
    "import kenv as kv"
   ]
  },
  {
   "cell_type": "markdown",
   "metadata": {},
   "source": [
    "Сan call for help:"
   ]
  },
  {
   "cell_type": "code",
   "execution_count": 2,
   "metadata": {},
   "outputs": [],
   "source": [
    "#help(kv)"
   ]
  },
  {
   "cell_type": "markdown",
   "metadata": {},
   "source": [
    "## Simulation\n",
    "\n",
    "To obtain an envelope, you need to create a beam and an accelerator. Then load the simulation of this beam in this accelerator and apply tracking."
   ]
  },
  {
   "cell_type": "code",
   "execution_count": 3,
   "metadata": {},
   "outputs": [],
   "source": [
    "#help(kv.Beam)"
   ]
  },
  {
   "cell_type": "code",
   "execution_count": 4,
   "metadata": {},
   "outputs": [],
   "source": [
    "beam = kv.Beam(energy=2,\n",
    "               current=2e3,\n",
    "               radius=50e-3,\n",
    "               angular=55.0e-3,\n",
    "               normalized_emittans=1000e-6)"
   ]
  },
  {
   "cell_type": "code",
   "execution_count": 5,
   "metadata": {},
   "outputs": [],
   "source": [
    "beam.add_particle('Center',30e-3,0, 0,0)\n",
    "#kv.Beam.add_particle?"
   ]
  },
  {
   "cell_type": "markdown",
   "metadata": {},
   "source": [
    "Can print:"
   ]
  },
  {
   "cell_type": "code",
   "execution_count": 6,
   "metadata": {},
   "outputs": [
    {
     "name": "stdout",
     "output_type": "stream",
     "text": [
      "Beam parameters:\n",
      "\tCurrent\t2000.0 A\n",
      "\tEnergy\t2.0 MeV\n",
      "\tRadius x\t50.0 mm\n",
      "\tRadius y\t50.0 mm\n",
      "\tAngular x\t55.0 mrad\n",
      "\tAngular y\t55.0 mrad\n",
      "\tNormalized emittans x\t1000.0 mm*mrad\n",
      "\tNormalized emittans y\t1000.0 mm*mrad\n",
      "\tParticles:\n",
      "\t[ 30.0 mm, 0.0 mm, 0.0 mrad, 0.0 mrad, 0.0 rad, 'Center'],\n",
      "\n"
     ]
    }
   ],
   "source": [
    "print(beam)"
   ]
  },
  {
   "cell_type": "code",
   "execution_count": 7,
   "metadata": {},
   "outputs": [],
   "source": [
    "#help(kv.Accelerator)"
   ]
  },
  {
   "cell_type": "code",
   "execution_count": 8,
   "metadata": {},
   "outputs": [],
   "source": [
    "accelerator = kv.Accelerator(0.7, 15, 0.001)"
   ]
  },
  {
   "cell_type": "code",
   "execution_count": 9,
   "metadata": {},
   "outputs": [],
   "source": [
    "Solenoids = [ \n",
    "    [ 0.95,       0.001,    'B_z(z).dat', 'Sol. 1' ],\n",
    "    [ 2.1,        0.03,     'B_z(z).dat', 'Sol. 2' ],\n",
    "    [ 2.9077,     0.001,    'B_z(z).dat', 'Sol. 3' ],\n",
    "    [ 4.0024,     0.03,     'B_z(z).dat', 'Sol. 4' ],\n",
    "    [ 5.642,      0.0254,   'B_z(z).dat', 'Sol. 5' ],\n",
    "    [ 6.760,      0.001,    'B_z(z).dat', 'Sol. 6' ],\n",
    "]"
   ]
  },
  {
   "cell_type": "code",
   "execution_count": 10,
   "metadata": {},
   "outputs": [],
   "source": [
    "Accels = [\n",
    "    [ 7.456,       -0.9,     'E_z(z).dat',  'Cavity 3'],\n",
    "    [ 8.838,       -0.9,     'E_z(z).dat',  'Cavity 4'],\n",
    "    [ 10.220,      -0.9,     'E_z(z).dat',  'Cavity 5'],\n",
    "    [ 11.602,      -0.9,     'E_z(z).dat',  'Cavity 6'],\n",
    "    [ 12.984,      -0.9,     'E_z(z).dat',  'Cavity 7'],\n",
    "    [ 14.366,      -0.9,     'E_z(z).dat',  'Cavity 8'],    \n",
    "]"
   ]
  },
  {
   "cell_type": "code",
   "execution_count": 11,
   "metadata": {},
   "outputs": [],
   "source": [
    "for   z0, B0, filename, name in Solenoids:\n",
    "    accelerator.Bz_beamline[name] = kv.Element(z0, B0, filename, name)\n",
    "for   z0, E0, filename, name in Accels:\n",
    "    accelerator.Ez_beamline[name] = kv.Element(z0, E0, filename, name)"
   ]
  },
  {
   "cell_type": "code",
   "execution_count": 12,
   "metadata": {
    "scrolled": true
   },
   "outputs": [
    {
     "name": "stdout",
     "output_type": "stream",
     "text": [
      "Accelerator structure.\n",
      "\tSolenoids:\n",
      "\t[ 0.95000 m, 0.00100 T, 'B_z(z).dat', 'Sol. 1'],\n",
      "\t[ 2.10000 m, 0.03000 T, 'B_z(z).dat', 'Sol. 2'],\n",
      "\t[ 2.90770 m, 0.00100 T, 'B_z(z).dat', 'Sol. 3'],\n",
      "\t[ 4.00240 m, 0.03000 T, 'B_z(z).dat', 'Sol. 4'],\n",
      "\t[ 5.64200 m, 0.02540 T, 'B_z(z).dat', 'Sol. 5'],\n",
      "\t[ 6.76000 m, 0.00100 T, 'B_z(z).dat', 'Sol. 6'],\n",
      "\tAccelerating modules:\n",
      "\t[ 7.45600 m, -0.90000 Mv/m, 'E_z(z).dat', 'Cavity 3'],\n",
      "\t[ 8.83800 m, -0.90000 Mv/m, 'E_z(z).dat', 'Cavity 4'],\n",
      "\t[ 10.22000 m, -0.90000 Mv/m, 'E_z(z).dat', 'Cavity 5'],\n",
      "\t[ 11.60200 m, -0.90000 Mv/m, 'E_z(z).dat', 'Cavity 6'],\n",
      "\t[ 12.98400 m, -0.90000 Mv/m, 'E_z(z).dat', 'Cavity 7'],\n",
      "\t[ 14.36600 m, -0.90000 Mv/m, 'E_z(z).dat', 'Cavity 8'],\n",
      "\tQuadrupoles:\n",
      "\n"
     ]
    }
   ],
   "source": [
    "print(accelerator)"
   ]
  },
  {
   "cell_type": "code",
   "execution_count": 13,
   "metadata": {},
   "outputs": [],
   "source": [
    "accelerator.compile()"
   ]
  },
  {
   "cell_type": "code",
   "execution_count": 14,
   "metadata": {},
   "outputs": [],
   "source": [
    "#help(kv.Simulation)"
   ]
  },
  {
   "cell_type": "code",
   "execution_count": 15,
   "metadata": {},
   "outputs": [],
   "source": [
    "simulation = kv.Simulation(beam, accelerator)"
   ]
  },
  {
   "cell_type": "code",
   "execution_count": null,
   "metadata": {},
   "outputs": [],
   "source": [
    "#simulation.track(solver='solve_ivp', rtol=1e-8)\n",
    "\n",
    "simulation.track(solver='odeint', rtol=1e-8)"
   ]
  },
  {
   "cell_type": "markdown",
   "metadata": {},
   "source": [
    "## Graphic with holoviews"
   ]
  },
  {
   "cell_type": "markdown",
   "metadata": {},
   "source": [
    "### matplotlib"
   ]
  },
  {
   "cell_type": "code",
   "execution_count": null,
   "metadata": {},
   "outputs": [],
   "source": [
    "import holoviews as hv\n",
    "hv.extension('matplotlib')\n",
    "\n",
    "%opts Layout [tight=True]\n",
    "%output size=250 backend='matplotlib' fig='png'\n",
    "\n",
    "%opts Area Curve [aspect=3 show_grid=True]\n",
    "%opts Area  (alpha=0.25)\n",
    "%opts Curve (alpha=0.5)\n",
    "%opts Area.Beam [aspect=3 show_grid=True] (color='red' alpha=0.3)\n",
    "\n",
    "import warnings\n",
    "warnings.filterwarnings('ignore')"
   ]
  },
  {
   "cell_type": "code",
   "execution_count": null,
   "metadata": {},
   "outputs": [],
   "source": [
    "dim_z  = hv.Dimension('z',  unit='m', range=(accelerator.start, accelerator.stop))\n",
    "dim_z_zoom = hv.Dimension('z_zoom',  unit='m', range=(7, 8.0))\n",
    "dim_Bz = hv.Dimension('Bz', unit='T', label='Bz')\n",
    "dim_Ez = hv.Dimension('Ez', unit='MV/m', label='Ez')\n",
    "dim_dEzdz = hv.Dimension('dEzdz', unit='$\\mathrm{MV/m^2}$', label='$dE_z/dz$', range=(-10,+10))\n",
    "dim_dEzdz_zoom = hv.Dimension('dEzdz_zoom', unit='$\\mathrm{MV/m^2}$', label='$dE_z/dz$_zoom', range=(-0.3,+0.3))\n",
    "dim_dBzdz = hv.Dimension('dBzdz', unit='T/m', label='$dB_z/dz$', range=(-0.22,+0.22))\n",
    "\n",
    "dim_r = hv.Dimension('x, y', label=\"Lab x,y\", unit='mm', range=(-50,50))\n",
    "dim_angular = hv.Dimension('x, y', label=\"Lab x',y'\", unit='mrad', range=(-50,50))\n",
    "dim_phase = hv.Dimension('$\\phi$', label=\"Larmor phase\", unit='rad')\n",
    "dim_r_larmor = hv.Dimension('x, y', label=\"Larmor x,y\", unit='mm', range=(-50,50))\n",
    "dim_angular_larmor = hv.Dimension('x, y', label=\"Larmor x',y'\", unit='mrad', range=(-50,50))"
   ]
  },
  {
   "cell_type": "code",
   "execution_count": null,
   "metadata": {},
   "outputs": [],
   "source": [
    "z_Ez = hv.Area((accelerator.parameter,accelerator.Ez(accelerator.parameter)), kdims=dim_z, vdims=dim_Ez)\n",
    "z_dEzdz = hv.Area((accelerator.parameter,accelerator.dEzdz(accelerator.parameter)), kdims=dim_z, vdims=dim_dEzdz)\n",
    "z_dEzdz_zoom = hv.Area((accelerator.parameter,accelerator.dEzdz(accelerator.parameter)), kdims=dim_z_zoom, vdims=dim_dEzdz_zoom)\n",
    "z_Bz = hv.Area((accelerator.parameter,accelerator.Bz(accelerator.parameter)), kdims=dim_z, vdims=dim_Bz)\n",
    "z_dBzdz = hv.Area((accelerator.parameter,accelerator.dBzdz(accelerator.parameter)), kdims=dim_z, vdims=dim_dBzdz)\n",
    "\n",
    "z_r = hv.Area(((accelerator.parameter,simulation.envelope_x*1e3)), kdims=[dim_z], vdims=[dim_r], group='Beam')\n",
    "z_x_particle = hv.Curve(((accelerator.parameter,simulation.particle_x['Center']*1e3)), kdims=[dim_z], vdims=[dim_r], group='Beam', label='x')\n",
    "z_y_particle = hv.Curve(((accelerator.parameter,simulation.particle_y['Center']*1e3)), kdims=[dim_z], vdims=[dim_r], group='Beam', label='y')\n",
    "z_angular_x_particle = hv.Curve(((accelerator.parameter,simulation.particle_angular_x['Center']*1e3)), kdims=[dim_z], vdims=[dim_angular], label=\"x'\")\n",
    "z_angular_y_particle = hv.Curve(((accelerator.parameter,simulation.particle_angular_y['Center']*1e3)), kdims=[dim_z], vdims=[dim_angular], label=\"y'\")\n",
    "\n",
    "z_phase = hv.Curve(((accelerator.parameter,simulation.particle_larmor_phase['Center'])), kdims=[dim_z], vdims=[dim_phase])\n",
    "\n",
    "z_x_larmor_particle = hv.Curve(((accelerator.parameter,simulation.particle_larmor_x['Center']*1e3)), kdims=[dim_z], vdims=[dim_r_larmor], label='x')\n",
    "z_y_larmor_particle = hv.Curve(((accelerator.parameter,simulation.particle_larmor_y['Center']*1e3)), kdims=[dim_z], vdims=[dim_r_larmor], label='y')\n",
    "z_angular_x_larmor_particle = hv.Curve(((accelerator.parameter,simulation.particle_larmor_angular_x['Center']*1e3)), kdims=[dim_z], vdims=[dim_angular_larmor], label=\"x'\")\n",
    "z_angular_y_larmor_particle = hv.Curve(((accelerator.parameter,simulation.particle_larmor_angular_y['Center']*1e3)), kdims=[dim_z], vdims=[dim_angular_larmor], label=\"y'\")\n"
   ]
  },
  {
   "cell_type": "code",
   "execution_count": null,
   "metadata": {},
   "outputs": [],
   "source": [
    "(z_x_particle*z_y_particle+z_x_larmor_particle*z_y_larmor_particle+z_phase).cols(1)\n"
   ]
  },
  {
   "cell_type": "code",
   "execution_count": null,
   "metadata": {},
   "outputs": [],
   "source": [
    "(z_angular_x_particle*z_angular_y_particle+z_angular_x_larmor_particle*z_angular_y_larmor_particle+z_phase).cols(1)"
   ]
  },
  {
   "cell_type": "code",
   "execution_count": null,
   "metadata": {},
   "outputs": [],
   "source": [
    "(z_Bz + z_dBzdz + z_Ez + z_dEzdz + z_dEzdz_zoom).cols(1)"
   ]
  },
  {
   "cell_type": "code",
   "execution_count": null,
   "metadata": {},
   "outputs": [],
   "source": []
  }
 ],
 "metadata": {
  "kernelspec": {
   "display_name": "Python 3",
   "language": "python",
   "name": "python3"
  },
  "language_info": {
   "codemirror_mode": {
    "name": "ipython",
    "version": 3
   },
   "file_extension": ".py",
   "mimetype": "text/x-python",
   "name": "python",
   "nbconvert_exporter": "python",
   "pygments_lexer": "ipython3",
   "version": "3.7.3"
  }
 },
 "nbformat": 4,
 "nbformat_minor": 4
}
