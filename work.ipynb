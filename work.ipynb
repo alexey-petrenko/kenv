{
 "cells": [
  {
   "cell_type": "markdown",
   "metadata": {},
   "source": [
    "# KENV\n",
    "\n",
    "<a href=mailto:fuodorov1998@gmail.com>V. Fedorov</a>, <a href=mailto:nikdanila@bk.ru>D. Nikiforov</a>, <a href=http://www.inp.nsk.su/~petrenko/>A. Petrenko</a>, (Novosibirsk, 2019)"
   ]
  },
  {
   "cell_type": "markdown",
   "metadata": {},
   "source": [
    "## Manual"
   ]
  },
  {
   "cell_type": "code",
   "execution_count": 1,
   "metadata": {},
   "outputs": [],
   "source": [
    "import kenv as kv"
   ]
  },
  {
   "cell_type": "markdown",
   "metadata": {},
   "source": [
    "Сan call for help:"
   ]
  },
  {
   "cell_type": "code",
   "execution_count": 2,
   "metadata": {},
   "outputs": [
    {
     "name": "stdout",
     "output_type": "stream",
     "text": [
      "Help on package kenv:\n",
      "\n",
      "NAME\n",
      "    kenv\n",
      "\n",
      "PACKAGE CONTENTS\n",
      "    accelerator\n",
      "    beam\n",
      "    solver\n",
      "\n",
      "CLASSES\n",
      "    builtins.object\n",
      "        kenv.accelerator.Accelerator\n",
      "        kenv.accelerator.Element\n",
      "        kenv.beam.Beam\n",
      "        kenv.beam.Particle\n",
      "        kenv.solver.Simulation\n",
      "    \n",
      "    class Accelerator(builtins.object)\n",
      "     |  Accelerator(start: float, stop: float, step: float)\n",
      "     |  \n",
      "     |  Create an accelerator.\n",
      "     |  \n",
      "     |  Create an accelerator with parameters:\n",
      "     |  start [m] --- the beginning of the accelerator,\n",
      "     |  stop [m] --- end of the accelerator,\n",
      "     |  step [m] --- step method along the accelerator.\n",
      "     |  \n",
      "     |  Can add a solenoids, quadrupoles and accelerating modules.\n",
      "     |  \n",
      "     |  Methods defined here:\n",
      "     |  \n",
      "     |  __init__(self, start: float, stop: float, step: float)\n",
      "     |      Initialize self.  See help(type(self)) for accurate signature.\n",
      "     |  \n",
      "     |  __str__(self)\n",
      "     |      Return str(self).\n",
      "     |  \n",
      "     |  add_acc = add_accel(self, name: str, center: float, max_field: float, file_name: str) -> None\n",
      "     |  \n",
      "     |  add_accel(self, name: str, center: float, max_field: float, file_name: str) -> None\n",
      "     |      Creates an accelerating module in the accelerator.\n",
      "     |      \n",
      "     |      Creates an accelerating module in the accelerator with parameters:\n",
      "     |      name --- accelerating module's id,\n",
      "     |      centert [m] --- accelerating module's center,\n",
      "     |      max field [MV/m] --- accelerating module's maximum field,\n",
      "     |      file name --- experimental profile of the Ez field,\n",
      "     |  \n",
      "     |  add_new_accel = add_accel(self, name: str, center: float, max_field: float, file_name: str) -> None\n",
      "     |  \n",
      "     |  add_new_quadrupole = add_quadrupole(self, name: str, center: float, max_field: float, file_name: str) -> None\n",
      "     |  \n",
      "     |  add_new_solenoid = add_solenoid(self, name: str, center: float, max_field: float, file_name: str) -> None\n",
      "     |  \n",
      "     |  add_quad = add_quadrupole(self, name: str, center: float, max_field: float, file_name: str) -> None\n",
      "     |  \n",
      "     |  add_quadrupole(self, name: str, center: float, max_field: float, file_name: str) -> None\n",
      "     |      Creates a quadrupole in the accelerator.\n",
      "     |      \n",
      "     |      Creates a quadrupole in the accelerator with parameters:\n",
      "     |      name --- quadrupole's id,\n",
      "     |      centert [m] --- quadrupole's center,\n",
      "     |      max field [T/m] --- quadrupole's maximum field,\n",
      "     |      file name --- experimental profile of the Gz field,\n",
      "     |  \n",
      "     |  add_sol = add_solenoid(self, name: str, center: float, max_field: float, file_name: str) -> None\n",
      "     |  \n",
      "     |  add_solenoid(self, name: str, center: float, max_field: float, file_name: str) -> None\n",
      "     |      Creates a solenoid in the accelerator.\n",
      "     |      \n",
      "     |      Creates a solenoid in the accelerator with parameters:\n",
      "     |      name --- solenoid's id,\n",
      "     |      centert [m] --- solenoid's center,\n",
      "     |      max field [T] --- solenoid's maximum field,\n",
      "     |      file name --- experimental profile of the Bz field,\n",
      "     |  \n",
      "     |  compile(self) -> None\n",
      "     |      Compilation of the accelerator.\n",
      "     |  \n",
      "     |  del_acc = delete_accel(self, name: str = 'all') -> None\n",
      "     |  \n",
      "     |  del_accel = delete_accel(self, name: str = 'all') -> None\n",
      "     |  \n",
      "     |  del_quad = delete_quadrupole(self, name: str = 'all') -> None\n",
      "     |  \n",
      "     |  del_quadrupole = delete_quadrupole(self, name: str = 'all') -> None\n",
      "     |  \n",
      "     |  del_sol = delete_solenoid(self, name: str = 'all') -> None\n",
      "     |  \n",
      "     |  del_solenoid = delete_solenoid(self, name: str = 'all') -> None\n",
      "     |  \n",
      "     |  delete_accel(self, name: str = 'all') -> None\n",
      "     |      Delete a accelerating module in the accelerator.\n",
      "     |      \n",
      "     |      Delete a accelerating module in the accelerator with parameters:\n",
      "     |      name --- quadrupole's id\n",
      "     |      \n",
      "     |      *if there is no name that will be removed all\n",
      "     |  \n",
      "     |  delete_quadrupole(self, name: str = 'all') -> None\n",
      "     |      Delete a quadrupole in the accelerator.\n",
      "     |      \n",
      "     |      Delete a quadrupole in the accelerator with parameters:\n",
      "     |      name --- quadrupole's id\n",
      "     |      \n",
      "     |      *if there is no name that will be removed all\n",
      "     |  \n",
      "     |  delete_solenoid(self, name: str = 'all') -> None\n",
      "     |      Delete a solenoid in the accelerator.\n",
      "     |      \n",
      "     |      Delete a solenoid in the accelerator with parameters:\n",
      "     |      name --- solenoid's id\n",
      "     |      \n",
      "     |      *if there is no name that will be removed all\n",
      "     |  \n",
      "     |  ----------------------------------------------------------------------\n",
      "     |  Data descriptors defined here:\n",
      "     |  \n",
      "     |  __dict__\n",
      "     |      dictionary for instance variables (if defined)\n",
      "     |  \n",
      "     |  __weakref__\n",
      "     |      list of weak references to the object (if defined)\n",
      "    \n",
      "    class Beam(builtins.object)\n",
      "     |  Beam(current: float = 0.0, energy: float = 0.0, radius: float = 0.0, radius_x: float = 0.0, radius_y: float = 0.0, angular: float = 0.0, angular_x: float = 0.0, angular_y: float = 0.0, normalized_emittans: float = 0.0, normalized_emittans_x: float = 0.0, normalized_emittans_y: float = 0.0)\n",
      "     |  \n",
      "     |  Creating an electron beam.\n",
      "     |  \n",
      "     |  Creating an elliptical electron beam with parameters:\n",
      "     |  current [A],\n",
      "     |  energy [MeV],\n",
      "     |  radius [m],\n",
      "     |  angular [m],\n",
      "     |  normalized emittans [m*rad],\n",
      "     |  radius x [m],\n",
      "     |  radius y [m],\n",
      "     |  angular x [rad],\n",
      "     |  angular y [rad],\n",
      "     |  normalized emittans x [m*rad],\n",
      "     |  normalized emittans y [m*rad].\n",
      "     |  \n",
      "     |  Methods defined here:\n",
      "     |  \n",
      "     |  __init__(self, current: float = 0.0, energy: float = 0.0, radius: float = 0.0, radius_x: float = 0.0, radius_y: float = 0.0, angular: float = 0.0, angular_x: float = 0.0, angular_y: float = 0.0, normalized_emittans: float = 0.0, normalized_emittans_x: float = 0.0, normalized_emittans_y: float = 0.0)\n",
      "     |      Initialize self.  See help(type(self)) for accurate signature.\n",
      "     |  \n",
      "     |  __str__(self)\n",
      "     |      Return str(self).\n",
      "     |  \n",
      "     |  add_new_particle = add_particle(self, name: str, x_position: float, y_position: float, angular_x: float, angular_y: float, phase: float = 0.0) -> None\n",
      "     |  \n",
      "     |  add_part = add_particle(self, name: str, x_position: float, y_position: float, angular_x: float, angular_y: float, phase: float = 0.0) -> None\n",
      "     |  \n",
      "     |  add_particle(self, name: str, x_position: float, y_position: float, angular_x: float, angular_y: float, phase: float = 0.0) -> None\n",
      "     |      Create particle in the beam.\n",
      "     |      \n",
      "     |      Create particle in the beam with parameters:\n",
      "     |      x_position [m],\n",
      "     |      y_position [m],\n",
      "     |      angular_x [rad],\n",
      "     |      angular_y [rad],\n",
      "     |      phase [rad],\n",
      "     |      name --- unique element name.\n",
      "     |  \n",
      "     |  del_part = delete_particle(self, name: str = 'all') -> None\n",
      "     |  \n",
      "     |  del_particle = delete_particle(self, name: str = 'all') -> None\n",
      "     |  \n",
      "     |  delete_particle(self, name: str = 'all') -> None\n",
      "     |      Delete particle in the beam.\n",
      "     |      \n",
      "     |      Delete a particle in the beam with parameters:\n",
      "     |      name --- qparticle's id\n",
      "     |      \n",
      "     |      *if there is no name that will be removed all\n",
      "     |  \n",
      "     |  ----------------------------------------------------------------------\n",
      "     |  Data descriptors defined here:\n",
      "     |  \n",
      "     |  __dict__\n",
      "     |      dictionary for instance variables (if defined)\n",
      "     |  \n",
      "     |  __weakref__\n",
      "     |      list of weak references to the object (if defined)\n",
      "    \n",
      "    class Element(builtins.object)\n",
      "     |  Element(z0: float, max_field: float, file_name: str, name: str)\n",
      "     |  \n",
      "     |  Sets one accelerator element.\n",
      "     |  \n",
      "     |  Sets one accelerator element with parameters:\n",
      "     |  z0 [m] --- element position,\n",
      "     |  max_field --- maximum field,\n",
      "     |  file_name --- field profile,\n",
      "     |  name --- unique element name.\n",
      "     |  \n",
      "     |  Methods defined here:\n",
      "     |  \n",
      "     |  __init__(self, z0: float, max_field: float, file_name: str, name: str)\n",
      "     |      Initialize self.  See help(type(self)) for accurate signature.\n",
      "     |  \n",
      "     |  ----------------------------------------------------------------------\n",
      "     |  Data descriptors defined here:\n",
      "     |  \n",
      "     |  __dict__\n",
      "     |      dictionary for instance variables (if defined)\n",
      "     |  \n",
      "     |  __weakref__\n",
      "     |      list of weak references to the object (if defined)\n",
      "    \n",
      "    class Particle(builtins.object)\n",
      "     |  Particle(x_position: float, y_position: float, angular_x: float, angular_y: float, phase: float, name: str)\n",
      "     |  \n",
      "     |  Sets particle in the beam.\n",
      "     |  \n",
      "     |  Sets particle in the beam with parameters:\n",
      "     |  x_position [m],\n",
      "     |  y_position [m],\n",
      "     |  phase [rad],\n",
      "     |  name --- unique element name.\n",
      "     |  \n",
      "     |  Methods defined here:\n",
      "     |  \n",
      "     |  __init__(self, x_position: float, y_position: float, angular_x: float, angular_y: float, phase: float, name: str)\n",
      "     |      Initialize self.  See help(type(self)) for accurate signature.\n",
      "     |  \n",
      "     |  ----------------------------------------------------------------------\n",
      "     |  Data descriptors defined here:\n",
      "     |  \n",
      "     |  __dict__\n",
      "     |      dictionary for instance variables (if defined)\n",
      "     |  \n",
      "     |  __weakref__\n",
      "     |      list of weak references to the object (if defined)\n",
      "    \n",
      "    Sim = class Simulation(builtins.object)\n",
      "     |  Sim(beam, accelerator)\n",
      "     |  \n",
      "     |  Simulation of the envelope beam in the accelerator.\n",
      "     |  \n",
      "     |  Methods defined here:\n",
      "     |  \n",
      "     |  __init__(self, beam, accelerator)\n",
      "     |      Initialize self.  See help(type(self)) for accurate signature.\n",
      "     |  \n",
      "     |  track(self, solver='odeint', rtol: float = 1e-08)\n",
      "     |      Tracking!\n",
      "     |  \n",
      "     |  ----------------------------------------------------------------------\n",
      "     |  Data descriptors defined here:\n",
      "     |  \n",
      "     |  __dict__\n",
      "     |      dictionary for instance variables (if defined)\n",
      "     |  \n",
      "     |  __weakref__\n",
      "     |      list of weak references to the object (if defined)\n",
      "     |  \n",
      "     |  ----------------------------------------------------------------------\n",
      "     |  Data and other attributes defined here:\n",
      "     |  \n",
      "     |  alfven_current = 17000\n",
      "     |  \n",
      "     |  clight = 299792458\n",
      "     |  \n",
      "     |  mass_rest_electron = 0.511\n",
      "    \n",
      "    class Simulation(builtins.object)\n",
      "     |  Simulation(beam, accelerator)\n",
      "     |  \n",
      "     |  Simulation of the envelope beam in the accelerator.\n",
      "     |  \n",
      "     |  Methods defined here:\n",
      "     |  \n",
      "     |  __init__(self, beam, accelerator)\n",
      "     |      Initialize self.  See help(type(self)) for accurate signature.\n",
      "     |  \n",
      "     |  track(self, solver='odeint', rtol: float = 1e-08)\n",
      "     |      Tracking!\n",
      "     |  \n",
      "     |  ----------------------------------------------------------------------\n",
      "     |  Data descriptors defined here:\n",
      "     |  \n",
      "     |  __dict__\n",
      "     |      dictionary for instance variables (if defined)\n",
      "     |  \n",
      "     |  __weakref__\n",
      "     |      list of weak references to the object (if defined)\n",
      "     |  \n",
      "     |  ----------------------------------------------------------------------\n",
      "     |  Data and other attributes defined here:\n",
      "     |  \n",
      "     |  alfven_current = 17000\n",
      "     |  \n",
      "     |  clight = 299792458\n",
      "     |  \n",
      "     |  mass_rest_electron = 0.511\n",
      "\n",
      "FUNCTIONS\n",
      "    read_elements(z: <built-in function arange>, beamline: dict) -> scipy.interpolate.interpolate.interp1d\n",
      "        Sews elements into a function of z.\n",
      "        \n",
      "        Sews elements into a function of z with parameters:\n",
      "        beamline --- set of accelerator elements,\n",
      "        z [m] --- coordinate.\n",
      "\n",
      "DATA\n",
      "    __all__ = ['Particle', 'Beam', 'Element', 'Accelerator', 'read_element...\n",
      "\n",
      "FILE\n",
      "    c:\\users\\вячеслав\\onedrive\\programs\\github\\kenv\\kenv\\__init__.py\n",
      "\n",
      "\n"
     ]
    }
   ],
   "source": [
    "help(kv)"
   ]
  },
  {
   "cell_type": "markdown",
   "metadata": {},
   "source": [
    "## Simulation\n",
    "\n",
    "To obtain an envelope, you need to create a beam and an accelerator. Then load the simulation of this beam in this accelerator and apply tracking."
   ]
  },
  {
   "cell_type": "code",
   "execution_count": 3,
   "metadata": {},
   "outputs": [],
   "source": [
    "#help(kv.Beam)"
   ]
  },
  {
   "cell_type": "code",
   "execution_count": 4,
   "metadata": {},
   "outputs": [],
   "source": [
    "beam = kv.Beam(energy=2,\n",
    "               current=2e3,\n",
    "               radius=50e-3,\n",
    "               angular=.0e-3,\n",
    "               normalized_emittans=1000e-6)"
   ]
  },
  {
   "cell_type": "code",
   "execution_count": 5,
   "metadata": {},
   "outputs": [],
   "source": [
    "beam.add_particle('Center',50e-3,.0e-3, 0.0e-3,0)"
   ]
  },
  {
   "cell_type": "markdown",
   "metadata": {},
   "source": [
    "Can print:"
   ]
  },
  {
   "cell_type": "code",
   "execution_count": 6,
   "metadata": {},
   "outputs": [
    {
     "name": "stdout",
     "output_type": "stream",
     "text": [
      "Beam parameters:\n",
      "\tCurrent\t2000.0 A\n",
      "\tEnergy\t2.0 MeV\n",
      "\tRadius x\t50.0 mm\n",
      "\tRadius y\t50.0 mm\n",
      "\tAngular x\t0.0 mrad\n",
      "\tAngular y\t0.0 mrad\n",
      "\tNormalized emittans x\t1000.0 mm*mrad\n",
      "\tNormalized emittans y\t1000.0 mm*mrad\n",
      "\tParticles:\n",
      "\t[ 50.0 mm, 0.0 mm, 0.0 mrad, 0.0 mrad, 0.0 rad, 'Center'],\n",
      "\n"
     ]
    }
   ],
   "source": [
    "print(beam)"
   ]
  },
  {
   "cell_type": "code",
   "execution_count": 7,
   "metadata": {},
   "outputs": [],
   "source": [
    "#help(kv.Accelerator)"
   ]
  },
  {
   "cell_type": "code",
   "execution_count": 8,
   "metadata": {},
   "outputs": [],
   "source": [
    "accelerator = kv.Accelerator(0, 5, 0.001)"
   ]
  },
  {
   "cell_type": "code",
   "execution_count": 9,
   "metadata": {},
   "outputs": [],
   "source": [
    "accelerator.add_new_solenoid('Sol. 1', 1, 0.05, 'notebooks/input/B_z(z).dat')\n",
    "#accelerator.add_sol('Sol. 1', 1, 0.05, 'B_z(z).dat')\n",
    "accelerator.add_new_accel('Acc. 1', 2.5, -1, 'notebooks/input/E_z(z).dat')\n",
    "#accelerator.add_acc('Sol. 1', 1, 0.05, 'B_z(z).dat')"
   ]
  },
  {
   "cell_type": "code",
   "execution_count": 10,
   "metadata": {},
   "outputs": [
    {
     "name": "stdout",
     "output_type": "stream",
     "text": [
      "Accelerator structure.\n",
      "\tSolenoids:\n",
      "\t[ 1.00000 m, 0.05000 T, 'notebooks/input/B_z(z).dat', 'Sol. 1'],\n",
      "\tAccelerating modules:\n",
      "\t[ 2.50000 m, -1.00000 Mv/m, 'notebooks/input/E_z(z).dat', 'Acc. 1'],\n",
      "\tQuadrupoles:\n",
      "\n"
     ]
    }
   ],
   "source": [
    "print(accelerator)"
   ]
  },
  {
   "cell_type": "code",
   "execution_count": 11,
   "metadata": {},
   "outputs": [],
   "source": [
    "Solenoids = [ \n",
    "    [ 2.0000, 0.06, 'notebooks/input/B_z(z).dat', 'Sol. 2'],\n",
    "    [ 3.0000, 0.07, 'notebooks/input/B_z(z).dat', 'Sol. 3'],\n",
    "    [ 4.0000, 0.08, 'notebooks/input/B_z(z).dat', 'Sol. 4'],\n",
    "]"
   ]
  },
  {
   "cell_type": "code",
   "execution_count": 12,
   "metadata": {},
   "outputs": [],
   "source": [
    "for   z0, B0, filename, name in Solenoids:\n",
    "    accelerator.Bz_beamline[name] = kv.Element(z0, B0, filename, name)"
   ]
  },
  {
   "cell_type": "code",
   "execution_count": 13,
   "metadata": {},
   "outputs": [
    {
     "name": "stdout",
     "output_type": "stream",
     "text": [
      "Accelerator structure.\n",
      "\tSolenoids:\n",
      "\t[ 1.00000 m, 0.05000 T, 'notebooks/input/B_z(z).dat', 'Sol. 1'],\n",
      "\t[ 2.00000 m, 0.06000 T, 'notebooks/input/B_z(z).dat', 'Sol. 2'],\n",
      "\t[ 3.00000 m, 0.07000 T, 'notebooks/input/B_z(z).dat', 'Sol. 3'],\n",
      "\t[ 4.00000 m, 0.08000 T, 'notebooks/input/B_z(z).dat', 'Sol. 4'],\n",
      "\tAccelerating modules:\n",
      "\t[ 2.50000 m, -1.00000 Mv/m, 'notebooks/input/E_z(z).dat', 'Acc. 1'],\n",
      "\tQuadrupoles:\n",
      "\n"
     ]
    }
   ],
   "source": [
    "print(accelerator)"
   ]
  },
  {
   "cell_type": "code",
   "execution_count": null,
   "metadata": {},
   "outputs": [],
   "source": [
    "accelerator.compile()"
   ]
  },
  {
   "cell_type": "code",
   "execution_count": null,
   "metadata": {},
   "outputs": [],
   "source": [
    "#help(kv.Simulation)"
   ]
  },
  {
   "cell_type": "code",
   "execution_count": null,
   "metadata": {},
   "outputs": [],
   "source": [
    "simulation = kv.Simulation(beam, accelerator)"
   ]
  },
  {
   "cell_type": "code",
   "execution_count": null,
   "metadata": {},
   "outputs": [],
   "source": [
    "simulation.track(solver='odeint', rtol=1e-5)"
   ]
  },
  {
   "cell_type": "code",
   "execution_count": null,
   "metadata": {},
   "outputs": [],
   "source": [
    "#simulation.envelope_x\n",
    "#simulation.particle_phase['Center']"
   ]
  },
  {
   "cell_type": "markdown",
   "metadata": {},
   "source": [
    "## Graphic with holoviews"
   ]
  },
  {
   "cell_type": "markdown",
   "metadata": {},
   "source": [
    "### matplotlib"
   ]
  },
  {
   "cell_type": "code",
   "execution_count": null,
   "metadata": {},
   "outputs": [],
   "source": [
    "import holoviews as hv\n",
    "hv.extension('matplotlib')\n",
    "\n",
    "%opts Layout [tight=True]\n",
    "%output size=150 backend='matplotlib' fig='png'\n",
    "\n",
    "%opts Area Curve [aspect=3 show_grid=True]\n",
    "%opts Area  (alpha=0.25)\n",
    "%opts Curve (alpha=0.5)\n",
    "%opts Area.Beam [aspect=3 show_grid=True] (color='red' alpha=0.3)\n",
    "\n",
    "import warnings\n",
    "warnings.filterwarnings('ignore')"
   ]
  },
  {
   "cell_type": "code",
   "execution_count": null,
   "metadata": {},
   "outputs": [],
   "source": [
    "dim_z  = hv.Dimension('z',  unit='m', range=(accelerator.start, accelerator.stop))\n",
    "dim_Bz = hv.Dimension('Bz', unit='T', label='Bz')\n",
    "dim_Ez = hv.Dimension('Ez', unit='MV/m', label='Ez')\n",
    "\n",
    "dim_r = hv.Dimension('r', label=\"Beam r\", unit='mm')\n",
    "dim_phase = hv.Dimension('$\\phi$', label=\"Larmor phase\", unit='rad')\n"
   ]
  },
  {
   "cell_type": "code",
   "execution_count": null,
   "metadata": {},
   "outputs": [],
   "source": [
    "z_Ez = hv.Area((accelerator.parameter,accelerator.Ez(accelerator.parameter)), kdims=dim_z, vdims=dim_Ez)\n",
    "z_Bz = hv.Area((accelerator.parameter,accelerator.Bz(accelerator.parameter)), kdims=dim_z, vdims=dim_Bz)\n",
    "z_r = hv.Area(((accelerator.parameter,simulation.envelope_x*1e3)), kdims=[dim_z], vdims=[dim_r], group='Beam')\n",
    "z_x_particle = hv.Curve(((accelerator.parameter,simulation.particle_x['Center']*1e3)), kdims=[dim_z], vdims=[dim_r], group='Beam')\n",
    "#z_y_particle = hv.Curve(((accelerator.parameter,simulation.particle_y['Center']*1e3)), kdims=[dim_z], vdims=[dim_r], group='Beam')\n",
    "z_phase = hv.Curve(((accelerator.parameter,simulation.particle_phase['Center'])), kdims=[dim_z], vdims=[dim_phase], group='Beam')\n",
    "\n",
    "(z_r*z_x_particle+z_phase+z_Bz+z_Ez).cols(1)\n"
   ]
  },
  {
   "cell_type": "code",
   "execution_count": null,
   "metadata": {},
   "outputs": [],
   "source": [
    "dim_dEzdz = hv.Dimension('dEzdz', unit='$\\mathrm{MV/m^2}$', label='$dE_z/dz$', range=(-.50,+.50))\n",
    "dim_z  = hv.Dimension('z',  unit='m', range=(2, 3))\n",
    "k=1\n",
    "dEzdz = (accelerator.Ez(accelerator.parameter+k*accelerator.step) - accelerator.Ez(accelerator.parameter-k*accelerator.step))/accelerator.step/k\n",
    "hv.Area((accelerator.parameter,dEzdz), kdims=dim_z, vdims=dim_dEzdz)"
   ]
  },
  {
   "cell_type": "code",
   "execution_count": null,
   "metadata": {},
   "outputs": [],
   "source": []
  }
 ],
 "metadata": {
  "kernelspec": {
   "display_name": "Python 3",
   "language": "python",
   "name": "python3"
  },
  "language_info": {
   "codemirror_mode": {
    "name": "ipython",
    "version": 3
   },
   "file_extension": ".py",
   "mimetype": "text/x-python",
   "name": "python",
   "nbconvert_exporter": "python",
   "pygments_lexer": "ipython3",
   "version": "3.7.3"
  }
 },
 "nbformat": 4,
 "nbformat_minor": 4
}
