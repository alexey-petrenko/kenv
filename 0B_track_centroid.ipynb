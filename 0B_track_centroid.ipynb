{
 "cells": [
  {
   "cell_type": "markdown",
   "metadata": {},
   "source": [
    "# KENV\n",
    "\n",
    "<a href=mailto:fuodorov1998@gmail.com>V. Fedorov</a>, <a href=mailto:nikdanila@bk.ru>D. Nikiforov</a>, <a href=http://www.inp.nsk.su/~petrenko/>A. Petrenko</a>, (Novosibirsk, 2019)"
   ]
  },
  {
   "cell_type": "markdown",
   "metadata": {},
   "source": [
    "## Manual"
   ]
  },
  {
   "cell_type": "code",
   "execution_count": 1,
   "metadata": {},
   "outputs": [],
   "source": [
    "import kenv as kv"
   ]
  },
  {
   "cell_type": "markdown",
   "metadata": {},
   "source": [
    "Сan call for help:"
   ]
  },
  {
   "cell_type": "code",
   "execution_count": 2,
   "metadata": {},
   "outputs": [],
   "source": [
    "#help(kv)"
   ]
  },
  {
   "cell_type": "markdown",
   "metadata": {},
   "source": [
    "## Simulation\n",
    "\n",
    "To obtain an envelope, you need to create a beam and an accelerator. Then load the simulation of this beam in this accelerator and apply tracking."
   ]
  },
  {
   "cell_type": "code",
   "execution_count": 3,
   "metadata": {},
   "outputs": [],
   "source": [
    "beam = kv.Beam(energy=2,\n",
    "               current=2e3,\n",
    "               radius=50e-3,\n",
    "               x = 30e-3,\n",
    "               y = 0,\n",
    "               rp=55.0e-3,\n",
    "               normalized_emittance=1000e-6)"
   ]
  },
  {
   "cell_type": "markdown",
   "metadata": {},
   "source": [
    "Can print:"
   ]
  },
  {
   "cell_type": "code",
   "execution_count": 4,
   "metadata": {
    "scrolled": true
   },
   "outputs": [
    {
     "name": "stdout",
     "output_type": "stream",
     "text": [
      "Beam parameters:\n",
      "\tCurrent\t2000 A\n",
      "\tEnergy\t2.000 MeV\n",
      "\tTotal momentum\t2.458 MeV/c\n",
      "\tRel. factor\t4.914\n",
      "\tRadius x\t50.0 mm\n",
      "\tRadius y\t50.0 mm\n",
      "\tRadius x prime\t55.0 mrad\n",
      "\tRadius y prime\t55.0 mrad\n",
      "\tHorizontal centroid position\t30.0 mm\n",
      "\tVertical centroid position\t0.0 mm\n",
      "\tHorizontal centroid angle\t0.0 mrad\n",
      "\tVertical centroid angle\t0.0 mrad\n",
      "\tLarmor angle\t0.0 rad\n",
      "\tNormalized emittance x\t1000.0 mm*mrad\n",
      "\tNormalized emittance y\t1000.0 mm*mrad\n",
      "\n"
     ]
    }
   ],
   "source": [
    "print(beam)"
   ]
  },
  {
   "cell_type": "code",
   "execution_count": 5,
   "metadata": {},
   "outputs": [],
   "source": [
    "accelerator = kv.Accelerator(0.7, 15, 0.001)"
   ]
  },
  {
   "cell_type": "code",
   "execution_count": 6,
   "metadata": {},
   "outputs": [],
   "source": [
    "Solenoids = [ \n",
    "    [ 0.95,       0.001,    'Bz.dat', 'Sol. 1' ],\n",
    "    [ 2.1,        0.03,     'Bz.dat', 'Sol. 2' ],\n",
    "    [ 2.9077,     0.001,    'Bz.dat', 'Sol. 3' ],\n",
    "    [ 4.0024,     0.03,     'Bz.dat', 'Sol. 4' ],\n",
    "    [ 5.642,      0.03,     'Bz.dat', 'Sol. 5' ],\n",
    "    [ 6.760,      0.001,    'Bz.dat', 'Sol. 6' ],\n",
    "]"
   ]
  },
  {
   "cell_type": "code",
   "execution_count": 7,
   "metadata": {},
   "outputs": [],
   "source": [
    "Accels = [\n",
    "    [ 7.456,       -0.9,     'Ez.dat',  'Cavity 3'],\n",
    "    [ 8.838,       -0.9,     'Ez.dat',  'Cavity 4'],\n",
    "    [ 10.220,      -0.9,     'Ez.dat',  'Cavity 5'],\n",
    "    [ 11.602,      -0.9,     'Ez.dat',  'Cavity 6'],\n",
    "    [ 12.984,      -0.9,     'Ez.dat',  'Cavity 7'],\n",
    "    [ 14.366,      -0.9,     'Ez.dat',  'Cavity 8'],    \n",
    "]"
   ]
  },
  {
   "cell_type": "code",
   "execution_count": 8,
   "metadata": {},
   "outputs": [],
   "source": [
    "for   z0, B0, filename, name in Solenoids:\n",
    "    accelerator.Bz_beamline[name] = kv.Element(z0, B0, filename, name, x=0.000, xp=0.003)\n",
    "for   z0, E0, filename, name in Accels:\n",
    "    accelerator.Ez_beamline[name] = kv.Element(z0, E0, filename, name)"
   ]
  },
  {
   "cell_type": "code",
   "execution_count": 9,
   "metadata": {},
   "outputs": [],
   "source": [
    "accelerator.compile()"
   ]
  },
  {
   "cell_type": "code",
   "execution_count": 10,
   "metadata": {},
   "outputs": [],
   "source": [
    "simulation = kv.Simulation(beam, accelerator)"
   ]
  },
  {
   "cell_type": "code",
   "execution_count": 11,
   "metadata": {},
   "outputs": [],
   "source": [
    "simulation.track()"
   ]
  },
  {
   "cell_type": "markdown",
   "metadata": {},
   "source": [
    "## Graphic with holoviews"
   ]
  },
  {
   "cell_type": "markdown",
   "metadata": {},
   "source": [
    "### matplotlib"
   ]
  },
  {
   "cell_type": "code",
   "execution_count": null,
   "metadata": {},
   "outputs": [],
   "source": [
    "import holoviews as hv\n",
    "hv.extension('matplotlib')\n",
    "\n",
    "%opts Layout [tight=True]\n",
    "%output size=250 backend='matplotlib' fig='png'\n",
    "\n",
    "%opts Area Curve [aspect=3 show_grid=True]\n",
    "%opts Area  (alpha=0.25)\n",
    "%opts Curve (alpha=0.5)\n",
    "%opts Area.Beam [aspect=3 show_grid=True] (color='red' alpha=0.3)\n",
    "\n",
    "import warnings\n",
    "warnings.filterwarnings('ignore')"
   ]
  },
  {
   "cell_type": "code",
   "execution_count": null,
   "metadata": {},
   "outputs": [],
   "source": [
    "dim_z  = hv.Dimension('z',  unit='m', range=(accelerator.start, accelerator.stop))\n",
    "dim_z_zoom = hv.Dimension('z_zoom',  unit='m', range=(7, 8.0))\n",
    "dim_Bz = hv.Dimension('Bz', unit='T', label='Bz')\n",
    "dim_Ez = hv.Dimension('Ez', unit='MV/m', label='Ez')\n",
    "dim_dEzdz = hv.Dimension('dEzdz', unit='$\\mathrm{MV/m^2}$', label='$dE_z/dz$', range=(-5,+5))\n",
    "dim_dEzdz_zoom = hv.Dimension('dEzdz_zoom', unit='$\\mathrm{MV/m^2}$', label='$dE_z/dz$_zoom', range=(-8,+8))\n",
    "dim_dBzdz = hv.Dimension('dBzdz', unit='T/m', label='$dB_z/dz$', range=(-0.22,+0.22))\n",
    "\n",
    "dim_x = hv.Dimension('x', label=\"Coordinate\", unit='mm', range=(-40,40))\n",
    "dim_y = hv.Dimension('y', label=\"Coordinate\", unit='mm', range=(-40,40))\n",
    "dim_r = dim_x\n",
    "dim_phase = hv.Dimension('phase', label=\"Larmor phase $\\Psi$\", unit='rad')"
   ]
  },
  {
   "cell_type": "code",
   "execution_count": null,
   "metadata": {},
   "outputs": [],
   "source": [
    "z_Ez = hv.Area((accelerator.parameter,accelerator.Ez(accelerator.parameter)), kdims=dim_z, vdims=dim_Ez)\n",
    "z_dEzdz = hv.Area((accelerator.parameter,-accelerator.dEzdz(accelerator.parameter)), kdims=dim_z, vdims=dim_dEzdz)\n",
    "z_dEzdz_zoom = hv.Area((accelerator.parameter,-accelerator.dEzdz(accelerator.parameter)), kdims=dim_z_zoom, vdims=dim_dEzdz_zoom)\n",
    "z_Bz = hv.Area((accelerator.parameter,accelerator.Bz(accelerator.parameter)), kdims=dim_z, vdims=dim_Bz)\n",
    "z_dBzdz = hv.Area((accelerator.parameter,-accelerator.dBzdz(accelerator.parameter)), kdims=dim_z, vdims=dim_dBzdz)\n",
    "\n",
    "z_r = hv.Area(((accelerator.parameter,simulation.envelope_x(accelerator.parameter)*1e3)), kdims=[dim_z], vdims=[dim_r], group='Beam')\n",
    "z_x_centroid = hv.Curve(((accelerator.parameter,simulation.centroid_x(accelerator.parameter)*1e3)), kdims=[dim_z], vdims=[dim_x], group='Beam', label='x')\n",
    "z_y_centroid = hv.Curve(((accelerator.parameter,simulation.centroid_y(accelerator.parameter)*1e3)), kdims=[dim_z], vdims=[dim_y], group='Beam', label='y')\n",
    "\n",
    "z_larmor_phase = hv.Curve(((accelerator.parameter,simulation.larmor_angle(accelerator.parameter))), kdims=[dim_z], vdims=[dim_phase])\n"
   ]
  },
  {
   "cell_type": "code",
   "execution_count": null,
   "metadata": {},
   "outputs": [],
   "source": [
    "(z_x_centroid*z_y_centroid+z_larmor_phase).cols(1)"
   ]
  },
  {
   "cell_type": "code",
   "execution_count": null,
   "metadata": {},
   "outputs": [],
   "source": [
    "(z_Bz + z_Ez + z_dEzdz + z_dEzdz_zoom).cols(1)"
   ]
  },
  {
   "cell_type": "markdown",
   "metadata": {},
   "source": [
    "## Astra vs KENV"
   ]
  },
  {
   "cell_type": "code",
   "execution_count": null,
   "metadata": {},
   "outputs": [],
   "source": [
    "import pandas as pd"
   ]
  },
  {
   "cell_type": "code",
   "execution_count": null,
   "metadata": {
    "scrolled": false
   },
   "outputs": [],
   "source": [
    "%opts Curve.Astra (linestyle='--' color='black')\n",
    "track = \"input/0B_track_centroid/track_centroid.track.001\"# Astra output file\n",
    "\n",
    "cols = ['id1', 'id2', 'z', 'x', 'y', 'id4', 'id5', 'id6', 'id7']\n",
    "df = pd.read_csv(track, header=None, delim_whitespace=True, names=cols, dtype='float32')\n",
    "\n",
    "larmor = \"input/0B_track_centroid/larmor_angle.dat\"\n",
    "cols_larmor = ['z', 'phase','id']\n",
    "df_larmor = pd.read_csv(larmor, header=None, delim_whitespace=True, names=cols_larmor, dtype='float32')\n",
    "\n",
    "field_dEz = \"input/0B_track_centroid/dEz.dat\"\n",
    "cols_dEz = ['z', 'dEzdz', 'id']\n",
    "df_dEz = pd.read_csv(field_dEz, header=None, delim_whitespace=True, names=cols_dEz, dtype='float32')\n",
    "\n",
    "field_dBz = \"input/0B_track_centroid/dBz.dat\"\n",
    "cols_dBz = ['z', 'dBzdz', 'id']\n",
    "df_dBz = pd.read_csv(field_dBz, header=None, delim_whitespace=True, names=cols_dBz, dtype='float32')\n",
    "\n",
    "z_x_astra = hv.Curve(df, kdims=[dim_z,dim_x], label='Astra', group = 'Astra')\n",
    "z_y_astra = hv.Curve(df, kdims=[dim_z,dim_y], label='Astra', group = 'Astra')\n",
    "z_larmor_astra = hv.Curve(df_larmor, kdims=[dim_z,dim_phase], label='Astra', group = 'Astra')\n",
    "z_dEzdz_astra = hv.Curve(df_dEz, kdims=[dim_z,dim_dEzdz], label='Astra', group = 'Astra')\n",
    "z_dBzdz_astra = hv.Curve(df_dBz, kdims=[dim_z,dim_dBzdz], label='Astra', group = 'Astra')\n",
    "\n",
    "\n",
    "(z_x_astra*z_x_centroid*z_y_astra*z_y_centroid+z_larmor_phase*z_larmor_astra+z_dBzdz*z_dBzdz_astra+z_dEzdz*z_dEzdz_astra).cols(1)"
   ]
  },
  {
   "cell_type": "markdown",
   "metadata": {},
   "source": [
    "## Difference "
   ]
  },
  {
   "cell_type": "code",
   "execution_count": null,
   "metadata": {},
   "outputs": [],
   "source": [
    "\n",
    "cols = ['id1', 'id2', 'z', 'x', 'y', 'id4', 'id5', 'id6', 'id7']\n",
    "df = pd.read_csv(track, header=None, delim_whitespace=True, names=cols, dtype='float32')\n",
    "\n",
    "import numpy as np\n",
    "x_astra_array = df['x']\n",
    "y_astra_array = df['y']\n",
    "z_array = df['z']"
   ]
  },
  {
   "cell_type": "code",
   "execution_count": null,
   "metadata": {},
   "outputs": [],
   "source": [
    "x_kenv_array = np.interp(z_array, accelerator.parameter, simulation.centroid_x(accelerator.parameter)*1e3)\n",
    "y_kenv_array = np.interp(z_array, accelerator.parameter, simulation.centroid_y(accelerator.parameter)*1e3)"
   ]
  },
  {
   "cell_type": "code",
   "execution_count": null,
   "metadata": {},
   "outputs": [],
   "source": [
    "delta_x = -x_kenv_array+x_astra_array\n",
    "delta_y = -y_kenv_array+y_astra_array"
   ]
  },
  {
   "cell_type": "code",
   "execution_count": null,
   "metadata": {},
   "outputs": [],
   "source": [
    "dim_x = hv.Dimension('x', label=\"Delta\", unit='mm', range=(-4,4))\n",
    "dim_y = hv.Dimension('y', label=\"Delta\", unit='mm', range=(-4,4))\n",
    "\n",
    "\n",
    "(hv.Curve(((z_array, delta_x)), kdims=[dim_z], vdims=[dim_x], label='$\\delta x$')\\\n",
    "*hv.Curve(((z_array, delta_y)), kdims=[dim_z], vdims=[dim_y], label='$\\delta y$')+z_dBzdz+z_dEzdz).cols(1)"
   ]
  },
  {
   "cell_type": "code",
   "execution_count": null,
   "metadata": {},
   "outputs": [],
   "source": []
  }
 ],
 "metadata": {
  "kernelspec": {
   "display_name": "Python 3",
   "language": "python",
   "name": "python3"
  },
  "language_info": {
   "codemirror_mode": {
    "name": "ipython",
    "version": 3
   },
   "file_extension": ".py",
   "mimetype": "text/x-python",
   "name": "python",
   "nbconvert_exporter": "python",
   "pygments_lexer": "ipython3",
   "version": "3.7.3"
  }
 },
 "nbformat": 4,
 "nbformat_minor": 4
}
